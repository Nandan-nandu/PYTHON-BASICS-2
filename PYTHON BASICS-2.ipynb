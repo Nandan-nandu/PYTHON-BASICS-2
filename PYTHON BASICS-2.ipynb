{
 "cells": [
  {
   "cell_type": "markdown",
   "id": "143e77fe",
   "metadata": {},
   "source": [
    "# LOOPS🔽"
   ]
  },
  {
   "cell_type": "markdown",
   "id": "ab9f212d",
   "metadata": {},
   "source": [
    "### WHILE LOOP✔️"
   ]
  },
  {
   "cell_type": "markdown",
   "id": "c7df1d3f",
   "metadata": {},
   "source": [
    "With the while loop we can execute a set of statements as long as a condition is true."
   ]
  },
  {
   "cell_type": "code",
   "execution_count": 1,
   "id": "814466e4",
   "metadata": {},
   "outputs": [
    {
     "name": "stdout",
     "output_type": "stream",
     "text": [
      "1\n",
      "2\n",
      "3\n",
      "4\n",
      "5\n",
      "6\n",
      "7\n",
      "8\n",
      "9\n",
      "10\n"
     ]
    }
   ],
   "source": [
    "# EXAMPLE-1.\n",
    "count = 1 #initialization.\n",
    "while count<11: #condition.\n",
    "    print (count) #printing the values.\n",
    "    count = count+1 #Increment."
   ]
  },
  {
   "cell_type": "code",
   "execution_count": 1,
   "id": "f869c80d",
   "metadata": {},
   "outputs": [
    {
     "name": "stdout",
     "output_type": "stream",
     "text": [
      "0\n",
      "1\n",
      "2\n",
      "3\n",
      "4\n"
     ]
    }
   ],
   "source": [
    "# EXAMPLE -2.\n",
    "k=0 #we can take any variable name.\n",
    "while(k<5):\n",
    "    print (k)\n",
    "    k= k+1 # Incrementing"
   ]
  },
  {
   "cell_type": "code",
   "execution_count": 5,
   "id": "699a96e7",
   "metadata": {},
   "outputs": [
    {
     "name": "stdout",
     "output_type": "stream",
     "text": [
      "1 Nandan\n",
      "2 Nandan\n",
      "3 Nandan\n",
      "4 Nandan\n",
      "5 Nandan\n",
      "6 Nandan\n",
      "7 Nandan\n",
      "8 Nandan\n",
      "9 Nandan\n",
      "10 Nandan\n"
     ]
    }
   ],
   "source": [
    "# EXAMPLE -3.\n",
    "r = 1\n",
    "while(r<11):\n",
    "    print(r,\"Nandan\") #. Here we are printing r (the value) with the name nandan\n",
    "    r=r+1"
   ]
  },
  {
   "cell_type": "code",
   "execution_count": 6,
   "id": "8b28329f",
   "metadata": {},
   "outputs": [
    {
     "name": "stdout",
     "output_type": "stream",
     "text": [
      "0\n",
      "2\n",
      "4\n",
      "6\n",
      "8\n",
      "10\n",
      "12\n",
      "14\n",
      "16\n",
      "18\n"
     ]
    }
   ],
   "source": [
    "# EXAMPLE-4.\n",
    "d = 0\n",
    "while(d<20):\n",
    "    print(d)\n",
    "    d=d+2 # Here we are incrementing 2."
   ]
  },
  {
   "cell_type": "code",
   "execution_count": 14,
   "id": "d76ce8da",
   "metadata": {},
   "outputs": [
    {
     "name": "stdout",
     "output_type": "stream",
     "text": [
      "0 1 2 3 4 5 6 7 8 9 "
     ]
    }
   ],
   "source": [
    "#EXAMPLE-5.\n",
    "i=0\n",
    "while(i<10):\n",
    "    print(i,end=\" \")# we are using end=\" \" function to write in a row wise.\n",
    "    i=i+1\n"
   ]
  },
  {
   "cell_type": "code",
   "execution_count": 12,
   "id": "160df3a1",
   "metadata": {},
   "outputs": [
    {
     "name": "stdout",
     "output_type": "stream",
     "text": [
      "1. 2. 3. 4. 5. 6. 7. 8. 9. 10. 11. 12. 13. 14. 15. 16. 17. 18. 19. 20. 21. 22. 23. 24. 25. 26. 27. 28. 29. 30. 31. 32. 33. 34. 35. 36. 37. 38. 39. 40. 41. 42. 43. 44. 45. 46. 47. 48. 49. 50. "
     ]
    }
   ],
   "source": [
    "# EXAMPLE-6.\n",
    "i=1\n",
    "while(i<51):\n",
    "    print (i,end=\". \")\n",
    "    i=i+1"
   ]
  },
  {
   "cell_type": "code",
   "execution_count": 1,
   "id": "68ced1cb",
   "metadata": {},
   "outputs": [
    {
     "name": "stdout",
     "output_type": "stream",
     "text": [
      "The value of k = 0\n",
      "The value of k = 5\n",
      "The value of k = 10\n",
      "The value of k = 15\n",
      "The value of k = 20\n",
      "The value of k = 25\n",
      "The value of k = 30\n",
      "The value of k = 35\n",
      "The value of k = 40\n",
      "The value of k = 45\n"
     ]
    }
   ],
   "source": [
    "# EXAMPLE -7.\n",
    "k=0\n",
    "while(k<50):\n",
    "    print(\"The value of k =\",k)\n",
    "    k=k+5"
   ]
  },
  {
   "cell_type": "code",
   "execution_count": 7,
   "id": "794221d8",
   "metadata": {},
   "outputs": [
    {
     "name": "stdout",
     "output_type": "stream",
     "text": [
      "enter your value of x is 8\n",
      "0 1 2 3 4 5 6 7 "
     ]
    }
   ],
   "source": [
    "# EXAMPLE-8\n",
    "x= int(input(\"enter your value of x is \"))\n",
    "i=0\n",
    "while(i<x):\n",
    "    print(i,end=\" \")\n",
    "    i=i+1"
   ]
  },
  {
   "cell_type": "markdown",
   "id": "a1ee220b",
   "metadata": {},
   "source": [
    "### FOR LOOP✅🔽"
   ]
  },
  {
   "cell_type": "markdown",
   "id": "12458583",
   "metadata": {},
   "source": [
    "A for loop is used for iterating over a sequence (that is either a list, a tuple, a dictionary, a set, or a string).\n",
    "\n",
    "This is less like the for keyword in other programming languages, and works more like an iterator method as found in other object-orientated programming languages.\n",
    "\n",
    "With the for loop we can execute a set of statements, once for each item in a list, tuple, set etc."
   ]
  },
  {
   "cell_type": "code",
   "execution_count": 9,
   "id": "0e29e533",
   "metadata": {},
   "outputs": [
    {
     "name": "stdout",
     "output_type": "stream",
     "text": [
      "1\n",
      "2\n",
      "3\n",
      "4\n",
      "5\n"
     ]
    }
   ],
   "source": [
    "# EXAMPLE-1.\n",
    "for i in [1,2,3,4,5]:# it consider it as rane and prints it.\n",
    "    print(i)\n"
   ]
  },
  {
   "cell_type": "code",
   "execution_count": 12,
   "id": "18e88f69",
   "metadata": {},
   "outputs": [
    {
     "name": "stdout",
     "output_type": "stream",
     "text": [
      "10\n",
      "20\n",
      "30\n",
      "40\n",
      "50\n"
     ]
    }
   ],
   "source": [
    "# EXAMPLE-2.\n",
    "for k in [10,20,30,40,50]:\n",
    "    print(k)\n",
    "    "
   ]
  },
  {
   "cell_type": "code",
   "execution_count": 14,
   "id": "b59d12fa",
   "metadata": {},
   "outputs": [
    {
     "name": "stdout",
     "output_type": "stream",
     "text": [
      "23.45 56.7 87.9 22.4 "
     ]
    }
   ],
   "source": [
    "# EXAMPLE-3.\n",
    "# With float data \n",
    "for i in [23.45,56.7,87.9,22.4]:\n",
    "    print (i,end=\" \")\n",
    "# horizontal ways."
   ]
  },
  {
   "cell_type": "code",
   "execution_count": 15,
   "id": "6dc194fe",
   "metadata": {},
   "outputs": [
    {
     "name": "stdout",
     "output_type": "stream",
     "text": [
      "A\n",
      "B\n",
      "C\n",
      "D\n"
     ]
    }
   ],
   "source": [
    "# EXAMPLE-4.\n",
    "for i in [\"A\",\"B\",\"C\",\"D\"]:\n",
    "    print(i)"
   ]
  },
  {
   "cell_type": "code",
   "execution_count": 16,
   "id": "34fdbe63",
   "metadata": {},
   "outputs": [
    {
     "name": "stdout",
     "output_type": "stream",
     "text": [
      "1\n",
      "2\n",
      "3\n",
      "44\n",
      "4\n"
     ]
    }
   ],
   "source": [
    "list1 = [1,2,3,44,4]\n",
    "# we can also assign like this.\n",
    "for i in list1:\n",
    "    print(i)"
   ]
  },
  {
   "cell_type": "code",
   "execution_count": 1,
   "id": "660e7561",
   "metadata": {},
   "outputs": [
    {
     "name": "stdout",
     "output_type": "stream",
     "text": [
      "1\n",
      "2\n",
      "3\n",
      "4\n",
      "5\n",
      "DONE\n"
     ]
    }
   ],
   "source": [
    "# using print statement externally.\n",
    "l=[1,2,3,4,5]\n",
    "for i in l:\n",
    "    print(i)\n",
    "    i=i+1\n",
    "print (\"DONE\")"
   ]
  },
  {
   "cell_type": "code",
   "execution_count": 2,
   "id": "305961e9",
   "metadata": {},
   "outputs": [
    {
     "name": "stdout",
     "output_type": "stream",
     "text": [
      "1\n",
      "2\n",
      "3\n",
      "4\n",
      "5\n",
      "\n",
      "\n",
      "DONE\n"
     ]
    }
   ],
   "source": [
    "# printing in extra line.\n",
    "k=[1,2,3,4,5]\n",
    "for i in k:\n",
    "    print(i)\n",
    "    i=i+1\n",
    "print(\"\\n\")\n",
    "print (\"DONE\")"
   ]
  },
  {
   "cell_type": "markdown",
   "id": "7f26bfa0",
   "metadata": {},
   "source": [
    "# RANGE FUNCTION 🔽"
   ]
  },
  {
   "cell_type": "markdown",
   "id": "c1df7de3",
   "metadata": {},
   "source": [
    " The range() function returns a sequence of numbers, starting from 0 by default, and increments by 1 (by default), and stops before a specified number."
   ]
  },
  {
   "cell_type": "code",
   "execution_count": 3,
   "id": "bbb7b649",
   "metadata": {},
   "outputs": [
    {
     "data": {
      "text/plain": [
       "range(0, 5)"
      ]
     },
     "execution_count": 3,
     "metadata": {},
     "output_type": "execute_result"
    }
   ],
   "source": [
    "range(5)\n",
    "# it shows only 0,5."
   ]
  },
  {
   "cell_type": "code",
   "execution_count": 4,
   "id": "938d158c",
   "metadata": {},
   "outputs": [
    {
     "data": {
      "text/plain": [
       "[0, 1, 2, 3, 4, 5]"
      ]
     },
     "execution_count": 4,
     "metadata": {},
     "output_type": "execute_result"
    }
   ],
   "source": [
    "#using of list we can draw elements between them.\n",
    "list(range(6))"
   ]
  },
  {
   "cell_type": "code",
   "execution_count": 5,
   "id": "b6b41fad",
   "metadata": {},
   "outputs": [
    {
     "data": {
      "text/plain": [
       "[0, 1, 2, 3, 4, 5, 6, 7, 8, 9]"
      ]
     },
     "execution_count": 5,
     "metadata": {},
     "output_type": "execute_result"
    }
   ],
   "source": [
    "list(range(10))"
   ]
  },
  {
   "cell_type": "code",
   "execution_count": 7,
   "id": "3185b15a",
   "metadata": {},
   "outputs": [
    {
     "name": "stdout",
     "output_type": "stream",
     "text": [
      "[0, 1, 2, 3, 4, 5]\n"
     ]
    }
   ],
   "source": [
    "a= list(range(6)) # storing value in a.\n",
    "print (a)"
   ]
  },
  {
   "cell_type": "code",
   "execution_count": 8,
   "id": "627c38dc",
   "metadata": {},
   "outputs": [
    {
     "data": {
      "text/plain": [
       "[0, 1, 2, 3, 4, 5, 6]"
      ]
     },
     "execution_count": 8,
     "metadata": {},
     "output_type": "execute_result"
    }
   ],
   "source": [
    "# Mentioning starting and ending elements.\n",
    "list(range(0,7))"
   ]
  },
  {
   "cell_type": "code",
   "execution_count": 9,
   "id": "4d52e2a4",
   "metadata": {},
   "outputs": [
    {
     "data": {
      "text/plain": [
       "[2, 3, 4, 5, 6, 7, 8, 9]"
      ]
     },
     "execution_count": 9,
     "metadata": {},
     "output_type": "execute_result"
    }
   ],
   "source": [
    "list(range(2,10))"
   ]
  },
  {
   "cell_type": "code",
   "execution_count": 10,
   "id": "9b5589ca",
   "metadata": {},
   "outputs": [
    {
     "name": "stdout",
     "output_type": "stream",
     "text": [
      "5\n",
      "6\n",
      "7\n",
      "8\n",
      "9\n",
      "10\n",
      "11\n",
      "12\n",
      "13\n",
      "14\n",
      "values are printed\n"
     ]
    }
   ],
   "source": [
    "x = list(range(5,15))\n",
    "for i in x:\n",
    "    print(i)\n",
    "print(\"values are printed\")"
   ]
  },
  {
   "cell_type": "code",
   "execution_count": 11,
   "id": "0d12e2f8",
   "metadata": {},
   "outputs": [
    {
     "name": "stdout",
     "output_type": "stream",
     "text": [
      "0\n",
      "3\n",
      "6\n",
      "9\n",
      "12\n",
      "The values are printed\n"
     ]
    }
   ],
   "source": [
    "# using jump condition inside range.\n",
    "k= list(range(0,15,3))\n",
    "for i in k:\n",
    "    print(i)\n",
    "print(\"The values are printed\")"
   ]
  },
  {
   "cell_type": "code",
   "execution_count": 14,
   "id": "4a314401",
   "metadata": {},
   "outputs": [
    {
     "name": "stdout",
     "output_type": "stream",
     "text": [
      "[0, 3, 6, 9, 12] The values are printed\n"
     ]
    }
   ],
   "source": [
    "# printing statement in front of values.\n",
    "k= list(range(0,15,3))\n",
    "print (k,\"The values are printed\") "
   ]
  },
  {
   "cell_type": "code",
   "execution_count": 15,
   "id": "a8483293",
   "metadata": {},
   "outputs": [
    {
     "name": "stdout",
     "output_type": "stream",
     "text": [
      "coke\n",
      "lemon\n",
      "soda\n",
      "pepsi\n"
     ]
    }
   ],
   "source": [
    "# create a list with name fundrink with elements Coke lemon soda Pepsi and then iterate through for loop.\n",
    "fundrink =['coke','lemon','soda','pepsi']\n",
    "for i in fundrink:\n",
    "    print (i)"
   ]
  },
  {
   "cell_type": "markdown",
   "id": "7721b22d",
   "metadata": {},
   "source": [
    "➡️ WHILE LOOP does not work through dictionary,only FOR LOOP works with dictionary."
   ]
  },
  {
   "cell_type": "code",
   "execution_count": 5,
   "id": "e15145f6",
   "metadata": {},
   "outputs": [
    {
     "name": "stdout",
     "output_type": "stream",
     "text": [
      "[2, 4, 6, 8, 10, 12, 14, 16, 18]\n"
     ]
    }
   ],
   "source": [
    "# filling the empty list with the help of for loop.\n",
    "s=[]\n",
    "for i in range(2,20,2):\n",
    "    s.append(i)\n",
    "    \n",
    "print (s)"
   ]
  },
  {
   "cell_type": "code",
   "execution_count": 7,
   "id": "d3dc7ffd",
   "metadata": {},
   "outputs": [
    {
     "name": "stdout",
     "output_type": "stream",
     "text": [
      "[2]\n",
      "[2, 4]\n",
      "[2, 4, 6]\n",
      "[2, 4, 6, 8]\n",
      "[2, 4, 6, 8, 10]\n",
      "[2, 4, 6, 8, 10, 12]\n",
      "[2, 4, 6, 8, 10, 12, 14]\n",
      "[2, 4, 6, 8, 10, 12, 14, 16]\n",
      "[2, 4, 6, 8, 10, 12, 14, 16, 18]\n"
     ]
    }
   ],
   "source": [
    "# when we not take out the print statement from  indentation \n",
    "s=[]\n",
    "for i in range(2,20,2):\n",
    "    s.append(i)\n",
    "    print (s)\n",
    "    \n"
   ]
  },
  {
   "cell_type": "markdown",
   "id": "c3d7a71b",
   "metadata": {},
   "source": [
    "### list comprehension"
   ]
  },
  {
   "cell_type": "markdown",
   "id": "2526fb70",
   "metadata": {},
   "source": [
    "Creating a new list from existig list"
   ]
  },
  {
   "cell_type": "code",
   "execution_count": 1,
   "id": "c6ffeb77",
   "metadata": {},
   "outputs": [
    {
     "name": "stdout",
     "output_type": "stream",
     "text": [
      "[1, 2, 3, 4, 5]\n"
     ]
    }
   ],
   "source": [
    "list1 =[1,2,3,4,5] # first list.\n",
    "m=[ d for d in list1] # assigning the values to m.\n",
    "print (m)"
   ]
  },
  {
   "cell_type": "code",
   "execution_count": 2,
   "id": "73a0acb0",
   "metadata": {},
   "outputs": [
    {
     "name": "stdout",
     "output_type": "stream",
     "text": [
      "[2, 4, 6, 8]\n"
     ]
    }
   ],
   "source": [
    "# if we need a separate list from existing list based upon given condition.\n",
    "data =[1,2,3,4,5,6,7,8,9]\n",
    "s=[d for d in data if d%2==0] # condition.\n",
    "print (s)"
   ]
  },
  {
   "cell_type": "code",
   "execution_count": 4,
   "id": "64a55b63",
   "metadata": {},
   "outputs": [
    {
     "name": "stdout",
     "output_type": "stream",
     "text": [
      "[0, 5, 10, 15, 20, 25]\n"
     ]
    }
   ],
   "source": [
    "j = [i for i in range(0,30,5)]\n",
    "print (j)"
   ]
  },
  {
   "cell_type": "code",
   "execution_count": 5,
   "id": "2a45f78c",
   "metadata": {},
   "outputs": [
    {
     "name": "stdout",
     "output_type": "stream",
     "text": [
      "[1, 2, 3]\n"
     ]
    }
   ],
   "source": [
    "# using in dictionary.#only key are taken.\n",
    "dict ={1:100,2:200,3:300}\n",
    "k =[d for d in dict]\n",
    "print (k)"
   ]
  },
  {
   "cell_type": "code",
   "execution_count": 6,
   "id": "d62c60bd",
   "metadata": {},
   "outputs": [
    {
     "name": "stdout",
     "output_type": "stream",
     "text": [
      "[(1, 100), (2, 200), (3, 300)]\n"
     ]
    }
   ],
   "source": [
    "# using in dictionary.#only key are taken.\n",
    "dict ={1:100,2:200,3:300}\n",
    "k =[d for d in dict.items()]\n",
    "print (k)"
   ]
  },
  {
   "cell_type": "code",
   "execution_count": null,
   "id": "9151aee5",
   "metadata": {},
   "outputs": [],
   "source": []
  }
 ],
 "metadata": {
  "kernelspec": {
   "display_name": "Python 3",
   "language": "python",
   "name": "python3"
  },
  "language_info": {
   "codemirror_mode": {
    "name": "ipython",
    "version": 3
   },
   "file_extension": ".py",
   "mimetype": "text/x-python",
   "name": "python",
   "nbconvert_exporter": "python",
   "pygments_lexer": "ipython3",
   "version": "3.8.3"
  }
 },
 "nbformat": 4,
 "nbformat_minor": 5
}
